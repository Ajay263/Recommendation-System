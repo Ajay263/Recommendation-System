{
  "cells": [
    {
      "cell_type": "code",
      "source": [
        "!pip install spotipy\n"
      ],
      "metadata": {
        "colab": {
          "base_uri": "https://localhost:8080/"
        },
        "id": "MFYyZRsE3WwO",
        "outputId": "bd75159c-61df-47d7-97a2-5fab08e20ec8"
      },
      "execution_count": null,
      "outputs": [
        {
          "output_type": "stream",
          "name": "stdout",
          "text": [
            "Requirement already satisfied: spotipy in /usr/local/lib/python3.11/dist-packages (2.25.1)\n",
            "Requirement already satisfied: redis>=3.5.3 in /usr/local/lib/python3.11/dist-packages (from spotipy) (6.0.0)\n",
            "Requirement already satisfied: requests>=2.25.0 in /usr/local/lib/python3.11/dist-packages (from spotipy) (2.32.3)\n",
            "Requirement already satisfied: urllib3>=1.26.0 in /usr/local/lib/python3.11/dist-packages (from spotipy) (2.4.0)\n",
            "Requirement already satisfied: charset-normalizer<4,>=2 in /usr/local/lib/python3.11/dist-packages (from requests>=2.25.0->spotipy) (3.4.1)\n",
            "Requirement already satisfied: idna<4,>=2.5 in /usr/local/lib/python3.11/dist-packages (from requests>=2.25.0->spotipy) (3.10)\n",
            "Requirement already satisfied: certifi>=2017.4.17 in /usr/local/lib/python3.11/dist-packages (from requests>=2.25.0->spotipy) (2025.4.26)\n"
          ]
        }
      ]
    },
    {
      "cell_type": "code",
      "source": [
        "import pandas as pd\n",
        "import kagglehub\n",
        "import nltk\n",
        "from nltk.stem.porter import PorterStemmer\n",
        "import os\n",
        "import sys\n",
        "from sklearn.feature_extraction.text import TfidfVectorizer\n",
        "from sklearn.metrics.pairwise import cosine_similarity"
      ],
      "metadata": {
        "id": "pq9cEDqhbFkJ"
      },
      "execution_count": null,
      "outputs": []
    },
    {
      "cell_type": "code",
      "source": [
        "# Download dataset\n",
        "dataset_path = kagglehub.dataset_download(\"notshrirang/spotify-million-song-dataset\")\n",
        "\n",
        "# Read CSV file\n",
        "csv_file_path = f\"{dataset_path}/spotify_millsongdata.csv\"\n",
        "df = pd.read_csv(csv_file_path)\n",
        "\n",
        "# Display first few rows\n",
        "print(df.head())\n"
      ],
      "metadata": {
        "colab": {
          "base_uri": "https://localhost:8080/"
        },
        "id": "g_p4cSDSMHPH",
        "outputId": "bbae9dca-f4f8-4b47-8e21-1c8223d2b6ce"
      },
      "execution_count": 54,
      "outputs": [
        {
          "output_type": "stream",
          "name": "stdout",
          "text": [
            "  artist                   song                                        link  \\\n",
            "0   ABBA  Ahe's My Kind Of Girl  /a/abba/ahes+my+kind+of+girl_20598417.html   \n",
            "1   ABBA       Andante, Andante       /a/abba/andante+andante_20002708.html   \n",
            "2   ABBA         As Good As New        /a/abba/as+good+as+new_20003033.html   \n",
            "3   ABBA                   Bang                  /a/abba/bang_20598415.html   \n",
            "4   ABBA       Bang-A-Boomerang      /a/abba/bang+a+boomerang_20002668.html   \n",
            "\n",
            "                                                text  \n",
            "0  Look at her face, it's a wonderful face  \\r\\nA...  \n",
            "1  Take it easy with me, please  \\r\\nTouch me gen...  \n",
            "2  I'll never know why I had to go  \\r\\nWhy I had...  \n",
            "3  Making somebody happy is a question of give an...  \n",
            "4  Making somebody happy is a question of give an...  \n"
          ]
        }
      ]
    },
    {
      "cell_type": "code",
      "source": [
        "df.isnull().sum()"
      ],
      "metadata": {
        "colab": {
          "base_uri": "https://localhost:8080/",
          "height": 210
        },
        "id": "Xw7IZT6UMNHa",
        "outputId": "b657ec68-963f-41db-e4e5-e8ac0b707994"
      },
      "execution_count": 55,
      "outputs": [
        {
          "output_type": "execute_result",
          "data": {
            "text/plain": [
              "artist    0\n",
              "song      0\n",
              "link      0\n",
              "text      0\n",
              "dtype: int64"
            ],
            "text/html": [
              "<div>\n",
              "<style scoped>\n",
              "    .dataframe tbody tr th:only-of-type {\n",
              "        vertical-align: middle;\n",
              "    }\n",
              "\n",
              "    .dataframe tbody tr th {\n",
              "        vertical-align: top;\n",
              "    }\n",
              "\n",
              "    .dataframe thead th {\n",
              "        text-align: right;\n",
              "    }\n",
              "</style>\n",
              "<table border=\"1\" class=\"dataframe\">\n",
              "  <thead>\n",
              "    <tr style=\"text-align: right;\">\n",
              "      <th></th>\n",
              "      <th>0</th>\n",
              "    </tr>\n",
              "  </thead>\n",
              "  <tbody>\n",
              "    <tr>\n",
              "      <th>artist</th>\n",
              "      <td>0</td>\n",
              "    </tr>\n",
              "    <tr>\n",
              "      <th>song</th>\n",
              "      <td>0</td>\n",
              "    </tr>\n",
              "    <tr>\n",
              "      <th>link</th>\n",
              "      <td>0</td>\n",
              "    </tr>\n",
              "    <tr>\n",
              "      <th>text</th>\n",
              "      <td>0</td>\n",
              "    </tr>\n",
              "  </tbody>\n",
              "</table>\n",
              "</div><br><label><b>dtype:</b> int64</label>"
            ]
          },
          "metadata": {},
          "execution_count": 55
        }
      ]
    },
    {
      "cell_type": "code",
      "source": [
        "df =df.sample(5000).drop('link', axis=1).reset_index(drop=True)"
      ],
      "metadata": {
        "id": "7m1vk7-9MRUJ"
      },
      "execution_count": 56,
      "outputs": []
    },
    {
      "cell_type": "code",
      "source": [
        "df['text'][0]"
      ],
      "metadata": {
        "colab": {
          "base_uri": "https://localhost:8080/",
          "height": 140
        },
        "id": "1DXrWkqDMxWF",
        "outputId": "c835f477-ba10-4053-a084-5569c2c6c23f"
      },
      "execution_count": 57,
      "outputs": [
        {
          "output_type": "execute_result",
          "data": {
            "text/plain": [
              "\"Trust to your instincts  \\r\\nIf it's safely restrained  \\r\\nLightning reactions  \\r\\nMust be carefully trained  \\r\\n  \\r\\nHeat of the moment  \\r\\nCurse of the young  \\r\\nSpit out your anger  \\r\\nDon't swallow your tongue  \\r\\n  \\r\\nStick it out  \\r\\n  \\r\\nDon't swallow the poison  \\r\\nSpit it out  \\r\\nDon't swallow your pride  \\r\\nStick it out  \\r\\nDon't swallow your anger  \\r\\nSpit it out  \\r\\nDon't swallow the lies  \\r\\n  \\r\\nNatural reflex  \\r\\nPendulum swing  \\r\\nYou might be too dizzy  \\r\\nTo do the right thing  \\r\\n  \\r\\nTrial under fire  \\r\\nUltimate proof  \\r\\nMoment of crisis  \\r\\nDon't swallow the truth  \\r\\n  \\r\\nStick it out  \\r\\n  \\r\\nEach time we bathe our reactions  \\r\\nIn artificial light  \\r\\nEach time we alter the focus  \\r\\nTo make the wrong moves seem right  \\r\\n  \\r\\nYou get so used to deception  \\r\\nYou make yourself a nervous wreck  \\r\\nYou get so used to surrender  \\r\\nRunning back to cover your neck  \\r\\n  \\r\\nStick it out\\r\\n\\r\\n\""
            ],
            "application/vnd.google.colaboratory.intrinsic+json": {
              "type": "string"
            }
          },
          "metadata": {},
          "execution_count": 57
        }
      ]
    },
    {
      "cell_type": "code",
      "source": [
        "df['text'] = df['text'].str.lower().replace(r'^\\w\\s', ' ').replace(r'\\n', ' ', regex = True)"
      ],
      "metadata": {
        "id": "fdkngtsvMzfg"
      },
      "execution_count": 58,
      "outputs": []
    },
    {
      "cell_type": "code",
      "source": [
        "def fix_nltk_for_colab():\n",
        "    nltk_data_dir = '/content/nltk_data'\n",
        "    os.makedirs(nltk_data_dir, exist_ok=True)\n",
        "    nltk.data.path.insert(0, nltk_data_dir)\n",
        "\n",
        "    print(f\"NLTK will look for data in: {nltk.data.path}\")\n",
        "\n",
        "    # Clean install of punkt\n",
        "    print(\"\\nStep 2: Fresh download of punkt resource...\")\n",
        "    nltk.download('punkt', download_dir=nltk_data_dir)\n",
        "\n",
        "    # Try to handle punkt_tab issue\n",
        "    print(\"\\nStep 3: Handling punkt_tab dependency...\")\n",
        "    try:\n",
        "        nltk.download('punkt_tab', download_dir=nltk_data_dir)\n",
        "        print(\"Successfully downloaded punkt_tab!\")\n",
        "    except:\n",
        "        print(\"Direct download of punkt_tab failed (expected).\")\n",
        "\n",
        "    print(\"\\nStep 4: Verifying punkt installation...\")\n",
        "    try:\n",
        "        tokenizer = nltk.data.load('tokenizers/punkt/english.pickle')\n",
        "        print(\"Successfully loaded punkt tokenizer!\")\n",
        "        test = nltk.word_tokenize(\"Test sentence for Colab.\")\n",
        "        print(f\"Tokenization test successful: {test}\")\n",
        "        return True\n",
        "    except Exception as e:\n",
        "        print(f\"Tokenizer verification failed: {e}\")\n",
        "        return False\n"
      ],
      "metadata": {
        "id": "ktsSFO7DOBCx"
      },
      "execution_count": 59,
      "outputs": []
    },
    {
      "cell_type": "code",
      "source": [
        "# Create stemmer\n",
        "stemmer = PorterStemmer()"
      ],
      "metadata": {
        "id": "JBRquwb3bdra"
      },
      "execution_count": 60,
      "outputs": []
    },
    {
      "cell_type": "code",
      "source": [
        "# Fix NLTK in Colab\n",
        "success = fix_nltk_for_colab()"
      ],
      "metadata": {
        "colab": {
          "base_uri": "https://localhost:8080/"
        },
        "id": "bHwvE0HqbfkX",
        "outputId": "31934d52-bfd8-4c90-fa09-8610e0ead86a"
      },
      "execution_count": 61,
      "outputs": [
        {
          "output_type": "stream",
          "name": "stdout",
          "text": [
            "NLTK will look for data in: ['/content/nltk_data', '/content/nltk_data', '/content/nltk_data', '/root/nltk_data', '/usr/nltk_data', '/usr/share/nltk_data', '/usr/lib/nltk_data', '/usr/share/nltk_data', '/usr/local/share/nltk_data', '/usr/lib/nltk_data', '/usr/local/lib/nltk_data']\n",
            "\n",
            "Step 2: Fresh download of punkt resource...\n",
            "\n",
            "Step 3: Handling punkt_tab dependency...\n",
            "Successfully downloaded punkt_tab!\n",
            "\n",
            "Step 4: Verifying punkt installation...\n"
          ]
        },
        {
          "output_type": "stream",
          "name": "stderr",
          "text": [
            "[nltk_data] Downloading package punkt to /content/nltk_data...\n",
            "[nltk_data]   Package punkt is already up-to-date!\n",
            "[nltk_data] Downloading package punkt_tab to /content/nltk_data...\n",
            "[nltk_data]   Package punkt_tab is already up-to-date!\n"
          ]
        },
        {
          "output_type": "stream",
          "name": "stdout",
          "text": [
            "Successfully loaded punkt tokenizer!\n",
            "Tokenization test successful: ['Test', 'sentence', 'for', 'Colab', '.']\n"
          ]
        }
      ]
    },
    {
      "cell_type": "code",
      "source": [
        "def tokenization(txt):\n",
        "    if not isinstance(txt, str):\n",
        "        return \"\"\n",
        "\n",
        "    try:\n",
        "        tokens = nltk.word_tokenize(txt)\n",
        "        stemming = [stemmer.stem(w) for w in tokens]\n",
        "        return \" \".join(stemming)\n",
        "    except Exception as e:\n",
        "        print(f\"Tokenization error: {e}\")\n",
        "        # Fallback to basic tokenization if nltk fails\n",
        "        tokens = txt.lower().split()\n",
        "        stemming = [stemmer.stem(w) for w in tokens]\n",
        "        return \" \".join(stemming)\n"
      ],
      "metadata": {
        "id": "D82xNxc_bZuW"
      },
      "execution_count": 62,
      "outputs": []
    },
    {
      "cell_type": "code",
      "source": [
        "if success:\n",
        "    sample_text = \"Testing the tokenization function with multiple words in Google Colab.\"\n",
        "    result = tokenization(sample_text)\n",
        "    print(f\"\\nOriginal: {sample_text}\")\n",
        "    print(f\"Tokenized and stemmed: {result}\")\n",
        "\n",
        "    print(\"\\nYou can now use this function with your dataframe:\")\n",
        "    print(\"df['text'] = df['text'].apply(lambda x: tokenization(x))\")\n",
        "else:\n",
        "    print(\"\\nCould not fully fix NLTK resources. The function includes a fallback method.\")\n",
        "    print(\"df['text'] = df['text'].apply(lambda x: tokenization(x))\")"
      ],
      "metadata": {
        "colab": {
          "base_uri": "https://localhost:8080/"
        },
        "id": "nwVX4g4zbkue",
        "outputId": "554d6d13-1823-445b-d04b-ab1b35bde90c"
      },
      "execution_count": 64,
      "outputs": [
        {
          "output_type": "stream",
          "name": "stdout",
          "text": [
            "\n",
            "Original: Testing the tokenization function with multiple words in Google Colab.\n",
            "Tokenized and stemmed: test the token function with multipl word in googl colab .\n",
            "\n",
            "You can now use this function with your dataframe:\n",
            "df['text'] = df['text'].apply(lambda x: tokenization(x))\n"
          ]
        }
      ]
    },
    {
      "cell_type": "code",
      "source": [
        "df['text'] = df['text'].apply(lambda x: tokenization(x))"
      ],
      "metadata": {
        "id": "kdiOA7ezPO61"
      },
      "execution_count": 63,
      "outputs": []
    },
    {
      "cell_type": "code",
      "source": [
        "tfidvector = TfidfVectorizer(analyzer='word',stop_words='english')\n",
        "matrix = tfidvector.fit_transform(df['text'])\n",
        "similarity = cosine_similarity(matrix)\n"
      ],
      "metadata": {
        "id": "o_TVFVW4PaVL"
      },
      "execution_count": 65,
      "outputs": []
    },
    {
      "cell_type": "code",
      "source": [
        "similarity[0]"
      ],
      "metadata": {
        "colab": {
          "base_uri": "https://localhost:8080/"
        },
        "id": "hpk89N8KPcbd",
        "outputId": "141a1a5a-80f2-457d-e19e-aaab39783d3c"
      },
      "execution_count": 66,
      "outputs": [
        {
          "output_type": "execute_result",
          "data": {
            "text/plain": [
              "array([1.        , 0.00803735, 0.00936442, ..., 0.        , 0.00297763,\n",
              "       0.05252255])"
            ]
          },
          "metadata": {},
          "execution_count": 66
        }
      ]
    },
    {
      "cell_type": "code",
      "source": [
        "df.head()"
      ],
      "metadata": {
        "colab": {
          "base_uri": "https://localhost:8080/",
          "height": 206
        },
        "id": "AMNb4OsdQuO2",
        "outputId": "0e032008-0734-4e64-9ccd-1d03003fac11"
      },
      "execution_count": 67,
      "outputs": [
        {
          "output_type": "execute_result",
          "data": {
            "text/plain": [
              "           artist                        song  \\\n",
              "0            Rush                Stick It Out   \n",
              "1         The Jam  A Solid Bond In Your Heart   \n",
              "2    Adam Sandler             The Taliban Can   \n",
              "3     David Bowie           I Keep Forgetting   \n",
              "4  Kelly Clarkson                  How I Feel   \n",
              "\n",
              "                                                text  \n",
              "0  trust to your instinct if it 's safe restrain ...  \n",
              "1  feel is a word i ca n't explain at least not i...  \n",
              "2  hey , alright , gather round , the taliban is ...  \n",
              "3  [ choru : x2 ] i keep forget you do n't love m...  \n",
              "4  look like i made a mess again heartbreak every...  "
            ],
            "text/html": [
              "\n",
              "  <div id=\"df-83d38ece-012b-4be6-bc24-188f638afdaa\" class=\"colab-df-container\">\n",
              "    <div>\n",
              "<style scoped>\n",
              "    .dataframe tbody tr th:only-of-type {\n",
              "        vertical-align: middle;\n",
              "    }\n",
              "\n",
              "    .dataframe tbody tr th {\n",
              "        vertical-align: top;\n",
              "    }\n",
              "\n",
              "    .dataframe thead th {\n",
              "        text-align: right;\n",
              "    }\n",
              "</style>\n",
              "<table border=\"1\" class=\"dataframe\">\n",
              "  <thead>\n",
              "    <tr style=\"text-align: right;\">\n",
              "      <th></th>\n",
              "      <th>artist</th>\n",
              "      <th>song</th>\n",
              "      <th>text</th>\n",
              "    </tr>\n",
              "  </thead>\n",
              "  <tbody>\n",
              "    <tr>\n",
              "      <th>0</th>\n",
              "      <td>Rush</td>\n",
              "      <td>Stick It Out</td>\n",
              "      <td>trust to your instinct if it 's safe restrain ...</td>\n",
              "    </tr>\n",
              "    <tr>\n",
              "      <th>1</th>\n",
              "      <td>The Jam</td>\n",
              "      <td>A Solid Bond In Your Heart</td>\n",
              "      <td>feel is a word i ca n't explain at least not i...</td>\n",
              "    </tr>\n",
              "    <tr>\n",
              "      <th>2</th>\n",
              "      <td>Adam Sandler</td>\n",
              "      <td>The Taliban Can</td>\n",
              "      <td>hey , alright , gather round , the taliban is ...</td>\n",
              "    </tr>\n",
              "    <tr>\n",
              "      <th>3</th>\n",
              "      <td>David Bowie</td>\n",
              "      <td>I Keep Forgetting</td>\n",
              "      <td>[ choru : x2 ] i keep forget you do n't love m...</td>\n",
              "    </tr>\n",
              "    <tr>\n",
              "      <th>4</th>\n",
              "      <td>Kelly Clarkson</td>\n",
              "      <td>How I Feel</td>\n",
              "      <td>look like i made a mess again heartbreak every...</td>\n",
              "    </tr>\n",
              "  </tbody>\n",
              "</table>\n",
              "</div>\n",
              "    <div class=\"colab-df-buttons\">\n",
              "\n",
              "  <div class=\"colab-df-container\">\n",
              "    <button class=\"colab-df-convert\" onclick=\"convertToInteractive('df-83d38ece-012b-4be6-bc24-188f638afdaa')\"\n",
              "            title=\"Convert this dataframe to an interactive table.\"\n",
              "            style=\"display:none;\">\n",
              "\n",
              "  <svg xmlns=\"http://www.w3.org/2000/svg\" height=\"24px\" viewBox=\"0 -960 960 960\">\n",
              "    <path d=\"M120-120v-720h720v720H120Zm60-500h600v-160H180v160Zm220 220h160v-160H400v160Zm0 220h160v-160H400v160ZM180-400h160v-160H180v160Zm440 0h160v-160H620v160ZM180-180h160v-160H180v160Zm440 0h160v-160H620v160Z\"/>\n",
              "  </svg>\n",
              "    </button>\n",
              "\n",
              "  <style>\n",
              "    .colab-df-container {\n",
              "      display:flex;\n",
              "      gap: 12px;\n",
              "    }\n",
              "\n",
              "    .colab-df-convert {\n",
              "      background-color: #E8F0FE;\n",
              "      border: none;\n",
              "      border-radius: 50%;\n",
              "      cursor: pointer;\n",
              "      display: none;\n",
              "      fill: #1967D2;\n",
              "      height: 32px;\n",
              "      padding: 0 0 0 0;\n",
              "      width: 32px;\n",
              "    }\n",
              "\n",
              "    .colab-df-convert:hover {\n",
              "      background-color: #E2EBFA;\n",
              "      box-shadow: 0px 1px 2px rgba(60, 64, 67, 0.3), 0px 1px 3px 1px rgba(60, 64, 67, 0.15);\n",
              "      fill: #174EA6;\n",
              "    }\n",
              "\n",
              "    .colab-df-buttons div {\n",
              "      margin-bottom: 4px;\n",
              "    }\n",
              "\n",
              "    [theme=dark] .colab-df-convert {\n",
              "      background-color: #3B4455;\n",
              "      fill: #D2E3FC;\n",
              "    }\n",
              "\n",
              "    [theme=dark] .colab-df-convert:hover {\n",
              "      background-color: #434B5C;\n",
              "      box-shadow: 0px 1px 3px 1px rgba(0, 0, 0, 0.15);\n",
              "      filter: drop-shadow(0px 1px 2px rgba(0, 0, 0, 0.3));\n",
              "      fill: #FFFFFF;\n",
              "    }\n",
              "  </style>\n",
              "\n",
              "    <script>\n",
              "      const buttonEl =\n",
              "        document.querySelector('#df-83d38ece-012b-4be6-bc24-188f638afdaa button.colab-df-convert');\n",
              "      buttonEl.style.display =\n",
              "        google.colab.kernel.accessAllowed ? 'block' : 'none';\n",
              "\n",
              "      async function convertToInteractive(key) {\n",
              "        const element = document.querySelector('#df-83d38ece-012b-4be6-bc24-188f638afdaa');\n",
              "        const dataTable =\n",
              "          await google.colab.kernel.invokeFunction('convertToInteractive',\n",
              "                                                    [key], {});\n",
              "        if (!dataTable) return;\n",
              "\n",
              "        const docLinkHtml = 'Like what you see? Visit the ' +\n",
              "          '<a target=\"_blank\" href=https://colab.research.google.com/notebooks/data_table.ipynb>data table notebook</a>'\n",
              "          + ' to learn more about interactive tables.';\n",
              "        element.innerHTML = '';\n",
              "        dataTable['output_type'] = 'display_data';\n",
              "        await google.colab.output.renderOutput(dataTable, element);\n",
              "        const docLink = document.createElement('div');\n",
              "        docLink.innerHTML = docLinkHtml;\n",
              "        element.appendChild(docLink);\n",
              "      }\n",
              "    </script>\n",
              "  </div>\n",
              "\n",
              "\n",
              "    <div id=\"df-839cb0b1-5178-4b7c-bf65-5c20e2aabe7a\">\n",
              "      <button class=\"colab-df-quickchart\" onclick=\"quickchart('df-839cb0b1-5178-4b7c-bf65-5c20e2aabe7a')\"\n",
              "                title=\"Suggest charts\"\n",
              "                style=\"display:none;\">\n",
              "\n",
              "<svg xmlns=\"http://www.w3.org/2000/svg\" height=\"24px\"viewBox=\"0 0 24 24\"\n",
              "     width=\"24px\">\n",
              "    <g>\n",
              "        <path d=\"M19 3H5c-1.1 0-2 .9-2 2v14c0 1.1.9 2 2 2h14c1.1 0 2-.9 2-2V5c0-1.1-.9-2-2-2zM9 17H7v-7h2v7zm4 0h-2V7h2v10zm4 0h-2v-4h2v4z\"/>\n",
              "    </g>\n",
              "</svg>\n",
              "      </button>\n",
              "\n",
              "<style>\n",
              "  .colab-df-quickchart {\n",
              "      --bg-color: #E8F0FE;\n",
              "      --fill-color: #1967D2;\n",
              "      --hover-bg-color: #E2EBFA;\n",
              "      --hover-fill-color: #174EA6;\n",
              "      --disabled-fill-color: #AAA;\n",
              "      --disabled-bg-color: #DDD;\n",
              "  }\n",
              "\n",
              "  [theme=dark] .colab-df-quickchart {\n",
              "      --bg-color: #3B4455;\n",
              "      --fill-color: #D2E3FC;\n",
              "      --hover-bg-color: #434B5C;\n",
              "      --hover-fill-color: #FFFFFF;\n",
              "      --disabled-bg-color: #3B4455;\n",
              "      --disabled-fill-color: #666;\n",
              "  }\n",
              "\n",
              "  .colab-df-quickchart {\n",
              "    background-color: var(--bg-color);\n",
              "    border: none;\n",
              "    border-radius: 50%;\n",
              "    cursor: pointer;\n",
              "    display: none;\n",
              "    fill: var(--fill-color);\n",
              "    height: 32px;\n",
              "    padding: 0;\n",
              "    width: 32px;\n",
              "  }\n",
              "\n",
              "  .colab-df-quickchart:hover {\n",
              "    background-color: var(--hover-bg-color);\n",
              "    box-shadow: 0 1px 2px rgba(60, 64, 67, 0.3), 0 1px 3px 1px rgba(60, 64, 67, 0.15);\n",
              "    fill: var(--button-hover-fill-color);\n",
              "  }\n",
              "\n",
              "  .colab-df-quickchart-complete:disabled,\n",
              "  .colab-df-quickchart-complete:disabled:hover {\n",
              "    background-color: var(--disabled-bg-color);\n",
              "    fill: var(--disabled-fill-color);\n",
              "    box-shadow: none;\n",
              "  }\n",
              "\n",
              "  .colab-df-spinner {\n",
              "    border: 2px solid var(--fill-color);\n",
              "    border-color: transparent;\n",
              "    border-bottom-color: var(--fill-color);\n",
              "    animation:\n",
              "      spin 1s steps(1) infinite;\n",
              "  }\n",
              "\n",
              "  @keyframes spin {\n",
              "    0% {\n",
              "      border-color: transparent;\n",
              "      border-bottom-color: var(--fill-color);\n",
              "      border-left-color: var(--fill-color);\n",
              "    }\n",
              "    20% {\n",
              "      border-color: transparent;\n",
              "      border-left-color: var(--fill-color);\n",
              "      border-top-color: var(--fill-color);\n",
              "    }\n",
              "    30% {\n",
              "      border-color: transparent;\n",
              "      border-left-color: var(--fill-color);\n",
              "      border-top-color: var(--fill-color);\n",
              "      border-right-color: var(--fill-color);\n",
              "    }\n",
              "    40% {\n",
              "      border-color: transparent;\n",
              "      border-right-color: var(--fill-color);\n",
              "      border-top-color: var(--fill-color);\n",
              "    }\n",
              "    60% {\n",
              "      border-color: transparent;\n",
              "      border-right-color: var(--fill-color);\n",
              "    }\n",
              "    80% {\n",
              "      border-color: transparent;\n",
              "      border-right-color: var(--fill-color);\n",
              "      border-bottom-color: var(--fill-color);\n",
              "    }\n",
              "    90% {\n",
              "      border-color: transparent;\n",
              "      border-bottom-color: var(--fill-color);\n",
              "    }\n",
              "  }\n",
              "</style>\n",
              "\n",
              "      <script>\n",
              "        async function quickchart(key) {\n",
              "          const quickchartButtonEl =\n",
              "            document.querySelector('#' + key + ' button');\n",
              "          quickchartButtonEl.disabled = true;  // To prevent multiple clicks.\n",
              "          quickchartButtonEl.classList.add('colab-df-spinner');\n",
              "          try {\n",
              "            const charts = await google.colab.kernel.invokeFunction(\n",
              "                'suggestCharts', [key], {});\n",
              "          } catch (error) {\n",
              "            console.error('Error during call to suggestCharts:', error);\n",
              "          }\n",
              "          quickchartButtonEl.classList.remove('colab-df-spinner');\n",
              "          quickchartButtonEl.classList.add('colab-df-quickchart-complete');\n",
              "        }\n",
              "        (() => {\n",
              "          let quickchartButtonEl =\n",
              "            document.querySelector('#df-839cb0b1-5178-4b7c-bf65-5c20e2aabe7a button');\n",
              "          quickchartButtonEl.style.display =\n",
              "            google.colab.kernel.accessAllowed ? 'block' : 'none';\n",
              "        })();\n",
              "      </script>\n",
              "    </div>\n",
              "\n",
              "    </div>\n",
              "  </div>\n"
            ],
            "application/vnd.google.colaboratory.intrinsic+json": {
              "type": "dataframe",
              "variable_name": "df",
              "summary": "{\n  \"name\": \"df\",\n  \"rows\": 5000,\n  \"fields\": [\n    {\n      \"column\": \"artist\",\n      \"properties\": {\n        \"dtype\": \"category\",\n        \"num_unique_values\": 591,\n        \"samples\": [\n          \"Wu-Tang Clan\",\n          \"Freddie Aguilar\",\n          \"Thin Lizzy\"\n        ],\n        \"semantic_type\": \"\",\n        \"description\": \"\"\n      }\n    },\n    {\n      \"column\": \"song\",\n      \"properties\": {\n        \"dtype\": \"string\",\n        \"num_unique_values\": 4775,\n        \"samples\": [\n          \"Parachutes\",\n          \"Sugar\",\n          \"Ball And Biscuit\"\n        ],\n        \"semantic_type\": \"\",\n        \"description\": \"\"\n      }\n    },\n    {\n      \"column\": \"text\",\n      \"properties\": {\n        \"dtype\": \"string\",\n        \"num_unique_values\": 4998,\n        \"samples\": [\n          \"onli one gift on my list i do n't have to check it twice i 'm gon na have to count of st. nick mayb he can make it right i know but i 'll tri anyth and miracl have happen and i think i hear those sleigh bell ring oh oh i got ta get the christma spirit i ca n't get anywher near it but i 'm here hope desper i 'll do it up with all the trim christma tree and carol sing anyth to bring my babi back to me all i want 's a happi end wait there when i get home i do n't want to wind up spend anoth winter all alon i hope it 's not too much to ask i 'm sure you must be busi so i 'll tri to end thi stori fast oh oh i got ta get the christma spirit i ca n't get anywher near it but i 'm here hope desper i 'll do it up with all the trim christma tree and carol sing anyth to bring my babi back to me i got ta get the christma spirit i ca n't get anywher near it but i 'm here hope desper i 'll do it up with all the trim christma tree and carol sing anyth to bring my babi back to me santa bring my babi back santa bring my babi back santa bring my babi back to me santa bring my babi back santa bring my babi back santa bring my babi back to me\",\n          \"frosti the snowman wa a jolli happi soul with a corn cop pipe and a button nose and two eye made out of coal frosti the snowman is a fairi tale they say he wa made out of snow but the children know how he came to life one day there must of been some magic in that ol ' silk cap they found for when they place it on hi head he began to danc around frosti the snowman wa aliv as he could be and the children say he could laugh and play just the same as you and me frosti the snowman knew the snow wa hot that day so he said let run and have some fun befor i melt away down to the villag with a broom stick in hi hand runnin ' here and there all around the squar sayin ' catch me if you can he led them down the street of town right to the traffic cop and he onli paus a moment when he heard him holler stop frosti the snowman had to hurri on hi way but he wave goodby sayin ' pleas do n't cri i 'll be back again some day\",\n          \"i onc held her in my arm , she said she would alway stay . but i wa cruel , i treat her like a fool , i threw it all away . onc i had mountain in the palm of my hand , and river that ran through ev'ri day . i must have been mad , i never knew what i had , until i threw it all away . love is all there is , it make the world go 'round , love and onli love , it ca n't be deni . no matter what you think about it you just wo n't be abl to do without it . take a tip from one who 's tri . so if you find someon that give you all of her love , take it to your heart , do n't let it stray , for one thing that 's certain , you will sure be a-hurtin ' , if you throw it all away .\"\n        ],\n        \"semantic_type\": \"\",\n        \"description\": \"\"\n      }\n    }\n  ]\n}"
            }
          },
          "metadata": {},
          "execution_count": 67
        }
      ]
    },
    {
      "cell_type": "code",
      "source": [
        "df[df['song'] == 'I Had A Dream']\n"
      ],
      "metadata": {
        "colab": {
          "base_uri": "https://localhost:8080/",
          "height": 81
        },
        "id": "-qWJWxk7PfOO",
        "outputId": "ecdcc11d-5156-4619-8c36-b8a62bc827a8"
      },
      "execution_count": 68,
      "outputs": [
        {
          "output_type": "execute_result",
          "data": {
            "text/plain": [
              "          artist           song  \\\n",
              "2263  John Prine  I Had A Dream   \n",
              "\n",
              "                                                   text  \n",
              "2263  i had a dream last night last night i had a dr...  "
            ],
            "text/html": [
              "\n",
              "  <div id=\"df-04637766-1a16-4ea0-a928-d306660a1f99\" class=\"colab-df-container\">\n",
              "    <div>\n",
              "<style scoped>\n",
              "    .dataframe tbody tr th:only-of-type {\n",
              "        vertical-align: middle;\n",
              "    }\n",
              "\n",
              "    .dataframe tbody tr th {\n",
              "        vertical-align: top;\n",
              "    }\n",
              "\n",
              "    .dataframe thead th {\n",
              "        text-align: right;\n",
              "    }\n",
              "</style>\n",
              "<table border=\"1\" class=\"dataframe\">\n",
              "  <thead>\n",
              "    <tr style=\"text-align: right;\">\n",
              "      <th></th>\n",
              "      <th>artist</th>\n",
              "      <th>song</th>\n",
              "      <th>text</th>\n",
              "    </tr>\n",
              "  </thead>\n",
              "  <tbody>\n",
              "    <tr>\n",
              "      <th>2263</th>\n",
              "      <td>John Prine</td>\n",
              "      <td>I Had A Dream</td>\n",
              "      <td>i had a dream last night last night i had a dr...</td>\n",
              "    </tr>\n",
              "  </tbody>\n",
              "</table>\n",
              "</div>\n",
              "    <div class=\"colab-df-buttons\">\n",
              "\n",
              "  <div class=\"colab-df-container\">\n",
              "    <button class=\"colab-df-convert\" onclick=\"convertToInteractive('df-04637766-1a16-4ea0-a928-d306660a1f99')\"\n",
              "            title=\"Convert this dataframe to an interactive table.\"\n",
              "            style=\"display:none;\">\n",
              "\n",
              "  <svg xmlns=\"http://www.w3.org/2000/svg\" height=\"24px\" viewBox=\"0 -960 960 960\">\n",
              "    <path d=\"M120-120v-720h720v720H120Zm60-500h600v-160H180v160Zm220 220h160v-160H400v160Zm0 220h160v-160H400v160ZM180-400h160v-160H180v160Zm440 0h160v-160H620v160ZM180-180h160v-160H180v160Zm440 0h160v-160H620v160Z\"/>\n",
              "  </svg>\n",
              "    </button>\n",
              "\n",
              "  <style>\n",
              "    .colab-df-container {\n",
              "      display:flex;\n",
              "      gap: 12px;\n",
              "    }\n",
              "\n",
              "    .colab-df-convert {\n",
              "      background-color: #E8F0FE;\n",
              "      border: none;\n",
              "      border-radius: 50%;\n",
              "      cursor: pointer;\n",
              "      display: none;\n",
              "      fill: #1967D2;\n",
              "      height: 32px;\n",
              "      padding: 0 0 0 0;\n",
              "      width: 32px;\n",
              "    }\n",
              "\n",
              "    .colab-df-convert:hover {\n",
              "      background-color: #E2EBFA;\n",
              "      box-shadow: 0px 1px 2px rgba(60, 64, 67, 0.3), 0px 1px 3px 1px rgba(60, 64, 67, 0.15);\n",
              "      fill: #174EA6;\n",
              "    }\n",
              "\n",
              "    .colab-df-buttons div {\n",
              "      margin-bottom: 4px;\n",
              "    }\n",
              "\n",
              "    [theme=dark] .colab-df-convert {\n",
              "      background-color: #3B4455;\n",
              "      fill: #D2E3FC;\n",
              "    }\n",
              "\n",
              "    [theme=dark] .colab-df-convert:hover {\n",
              "      background-color: #434B5C;\n",
              "      box-shadow: 0px 1px 3px 1px rgba(0, 0, 0, 0.15);\n",
              "      filter: drop-shadow(0px 1px 2px rgba(0, 0, 0, 0.3));\n",
              "      fill: #FFFFFF;\n",
              "    }\n",
              "  </style>\n",
              "\n",
              "    <script>\n",
              "      const buttonEl =\n",
              "        document.querySelector('#df-04637766-1a16-4ea0-a928-d306660a1f99 button.colab-df-convert');\n",
              "      buttonEl.style.display =\n",
              "        google.colab.kernel.accessAllowed ? 'block' : 'none';\n",
              "\n",
              "      async function convertToInteractive(key) {\n",
              "        const element = document.querySelector('#df-04637766-1a16-4ea0-a928-d306660a1f99');\n",
              "        const dataTable =\n",
              "          await google.colab.kernel.invokeFunction('convertToInteractive',\n",
              "                                                    [key], {});\n",
              "        if (!dataTable) return;\n",
              "\n",
              "        const docLinkHtml = 'Like what you see? Visit the ' +\n",
              "          '<a target=\"_blank\" href=https://colab.research.google.com/notebooks/data_table.ipynb>data table notebook</a>'\n",
              "          + ' to learn more about interactive tables.';\n",
              "        element.innerHTML = '';\n",
              "        dataTable['output_type'] = 'display_data';\n",
              "        await google.colab.output.renderOutput(dataTable, element);\n",
              "        const docLink = document.createElement('div');\n",
              "        docLink.innerHTML = docLinkHtml;\n",
              "        element.appendChild(docLink);\n",
              "      }\n",
              "    </script>\n",
              "  </div>\n",
              "\n",
              "\n",
              "    </div>\n",
              "  </div>\n"
            ],
            "application/vnd.google.colaboratory.intrinsic+json": {
              "type": "dataframe",
              "summary": "{\n  \"name\": \"df[df['song'] == 'I Had A Dream']\",\n  \"rows\": 1,\n  \"fields\": [\n    {\n      \"column\": \"artist\",\n      \"properties\": {\n        \"dtype\": \"string\",\n        \"num_unique_values\": 1,\n        \"samples\": [\n          \"John Prine\"\n        ],\n        \"semantic_type\": \"\",\n        \"description\": \"\"\n      }\n    },\n    {\n      \"column\": \"song\",\n      \"properties\": {\n        \"dtype\": \"string\",\n        \"num_unique_values\": 1,\n        \"samples\": [\n          \"I Had A Dream\"\n        ],\n        \"semantic_type\": \"\",\n        \"description\": \"\"\n      }\n    },\n    {\n      \"column\": \"text\",\n      \"properties\": {\n        \"dtype\": \"string\",\n        \"num_unique_values\": 1,\n        \"samples\": [\n          \"i had a dream last night last night i had a dream everyth wa black and white and it smell like gasolin we stood in the corner and i held you tight i kiss your mouth till my head got light last night when i had a dream i had a dream last night last night i had a dream bird were fli left and right through the light of a movi screen everyon wa look for someth to do i even thought i had a chanc with you last night when i had a dream\"\n        ],\n        \"semantic_type\": \"\",\n        \"description\": \"\"\n      }\n    }\n  ]\n}"
            }
          },
          "metadata": {},
          "execution_count": 68
        }
      ]
    },
    {
      "cell_type": "code",
      "source": [
        "def recommendation(song_df):\n",
        "    idx = df[df['song'] == song_df].index[0]\n",
        "    distances = sorted(list(enumerate(similarity[idx])),reverse=True,key=lambda x:x[1])\n",
        "\n",
        "    songs = []\n",
        "    for m_id in distances[1:21]:\n",
        "        songs.append(df.iloc[m_id[0]].song)\n",
        "\n",
        "    return songs"
      ],
      "metadata": {
        "id": "XAcmThV7Phf8"
      },
      "execution_count": 69,
      "outputs": []
    },
    {
      "cell_type": "code",
      "source": [
        "recommendation('I Had A Dream')"
      ],
      "metadata": {
        "colab": {
          "base_uri": "https://localhost:8080/"
        },
        "id": "e-9go5hAPkvU",
        "outputId": "83674f02-c6b8-4606-8503-3c2178a970fe"
      },
      "execution_count": 70,
      "outputs": [
        {
          "output_type": "execute_result",
          "data": {
            "text/plain": [
              "['Good Night',\n",
              " 'The Dream Is Over',\n",
              " 'Dream Of Mirrors',\n",
              " 'Dream',\n",
              " 'Dreams',\n",
              " 'Dream',\n",
              " \"I Can't Make My Dreams Understand\",\n",
              " 'See You In Your Dreams',\n",
              " \"All Night's All Right\",\n",
              " 'Do You Still Dream?',\n",
              " 'Goodnight',\n",
              " 'Last Night I Dreamed Of Heaven',\n",
              " 'Keep On Dreaming',\n",
              " 'In The Still Of The Night',\n",
              " 'If I Was Your Lover',\n",
              " 'I Dreamed About Mama Last Night',\n",
              " 'Own The Night',\n",
              " 'Do You Dream Of Me',\n",
              " 'The Night Is Yours, The Night Is Mine',\n",
              " 'Turn On Your Light']"
            ]
          },
          "metadata": {},
          "execution_count": 70
        }
      ]
    },
    {
      "cell_type": "code",
      "source": [
        "import pickle\n",
        "pickle.dump(similarity,open('similarity.pkl','wb'))\n",
        "pickle.dump(df,open('df.pkl','wb'))\n"
      ],
      "metadata": {
        "id": "Uh5kQAfMPnlY"
      },
      "execution_count": null,
      "outputs": []
    },
    {
      "cell_type": "code",
      "source": [],
      "metadata": {
        "id": "yyqDPFdIQXIE"
      },
      "execution_count": null,
      "outputs": []
    }
  ],
  "metadata": {
    "colab": {
      "provenance": []
    },
    "kernelspec": {
      "display_name": "Python 3",
      "name": "python3"
    },
    "language_info": {
      "name": "python"
    }
  },
  "nbformat": 4,
  "nbformat_minor": 0
}